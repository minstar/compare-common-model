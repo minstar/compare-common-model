{
 "cells": [
  {
   "cell_type": "code",
   "execution_count": 10,
   "metadata": {
    "collapsed": false
   },
   "outputs": [],
   "source": [
    "import numpy as np\n",
    "import tensorflow as tf\n",
    "import queue\n",
    "import pickle\n",
    "import zipfile\n",
    "import collections\n",
    "import math\n",
    "import time\n",
    "\n",
    "from collections import Counter"
   ]
  },
  {
   "cell_type": "code",
   "execution_count": 11,
   "metadata": {
    "collapsed": false
   },
   "outputs": [],
   "source": [
    "from train_util import *\n",
    "from preprocessing import *\n",
    "from layer import *\n",
    "from model import *"
   ]
  },
  {
   "cell_type": "code",
   "execution_count": 12,
   "metadata": {
    "collapsed": false
   },
   "outputs": [],
   "source": [
    "#test_word2vec()"
   ]
  },
  {
   "cell_type": "markdown",
   "metadata": {},
   "source": [
    "1. Preprocessing the data\n",
    "==="
   ]
  },
  {
   "cell_type": "code",
   "execution_count": 13,
   "metadata": {
    "collapsed": true
   },
   "outputs": [],
   "source": [
    "#parameters\n",
    "vocab_size = 100000\n",
    "threshold = 1e-5\n",
    "embedding_size = 200\n",
    "context_size = 5\n",
    "architecture = 'cbow'\n",
    "use_loss = 'Negative_Sampling'\n",
    "sample_size = 20\n",
    "lr = 1e-3\n",
    "epochs = 10"
   ]
  },
  {
   "cell_type": "code",
   "execution_count": 14,
   "metadata": {
    "collapsed": true
   },
   "outputs": [],
   "source": [
    "words = preprocess('text8.zip')"
   ]
  },
  {
   "cell_type": "code",
   "execution_count": 15,
   "metadata": {
    "collapsed": false
   },
   "outputs": [
    {
     "name": "stdout",
     "output_type": "stream",
     "text": [
      "making dictionary :  4.3428263664245605\n",
      "unknown count :  4.3108580112457275\n",
      "subsampling time :  12.028310775756836\n",
      "unigram dictionary :  0.04686903953552246\n"
     ]
    }
   ],
   "source": [
    "words, word_lst, word_dict, word_reverse_dict, words_index, unigram_dict = total_sampling(file_data=words, subsampling=True, threshold=1e-5)"
   ]
  },
  {
   "cell_type": "markdown",
   "metadata": {
    "collapsed": true
   },
   "source": [
    "2. negative Sampling and Hierarchical Softmax\n",
    "===="
   ]
  },
  {
   "cell_type": "code",
   "execution_count": 16,
   "metadata": {
    "collapsed": false
   },
   "outputs": [
    {
     "name": "stdout",
     "output_type": "stream",
     "text": [
      "Filling Unigram Table\n"
     ]
    }
   ],
   "source": [
    "sample_table = Unigram_Table(vocab_size,sample_size,unigram_dict)\n",
    "huffman_encode = Huffman_encoding(unigram_dict)\n",
    "huffman_encode.encoding()\n",
    "node_lst, node_dict, reverse_node_dict = huffman_encode.make_node_dict()"
   ]
  },
  {
   "cell_type": "code",
   "execution_count": 17,
   "metadata": {
    "collapsed": true
   },
   "outputs": [],
   "source": [
    "architectures = ['cbow', 'skipgram']\n",
    "use_loss = ['Negative_Sampling','Hierarchical_Softmax']\n",
    "learning_rate = {'Softmax':1e-5, 'Negative_Sampling':0.15, 'Hierarchical_Softmax':0.15}"
   ]
  },
  {
   "cell_type": "code",
   "execution_count": 19,
   "metadata": {
    "collapsed": false,
    "scrolled": false
   },
   "outputs": [
    {
     "name": "stdout",
     "output_type": "stream",
     "text": [
      "Testing Model :cbow, loss : Negative_Sampling\n",
      "idx: 47963, loss: 14.532425, time: 9.036454, \n",
      "idx: 95926, loss: 14.531736, time: 8.244503, \n"
     ]
    },
    {
     "ename": "KeyboardInterrupt",
     "evalue": "",
     "output_type": "error",
     "traceback": [
      "\u001b[0;31m---------------------------------------------------------------------------\u001b[0m",
      "\u001b[0;31mKeyboardInterrupt\u001b[0m                         Traceback (most recent call last)",
      "\u001b[0;32m<ipython-input-19-f2ce3f0f25d4>\u001b[0m in \u001b[0;36m<module>\u001b[0;34m()\u001b[0m\n\u001b[1;32m      6\u001b[0m                             \u001b[0muse_loss\u001b[0m\u001b[1;33m=\u001b[0m\u001b[0mloss_type\u001b[0m\u001b[1;33m,\u001b[0m \u001b[0mlearning_rate\u001b[0m \u001b[1;33m=\u001b[0m \u001b[0mlearning_rate\u001b[0m\u001b[1;33m[\u001b[0m\u001b[0mloss_type\u001b[0m\u001b[1;33m]\u001b[0m\u001b[1;33m,\u001b[0m \u001b[0msample_table\u001b[0m\u001b[1;33m=\u001b[0m\u001b[0msample_table\u001b[0m\u001b[1;33m,\u001b[0m \u001b[0mencoder\u001b[0m\u001b[1;33m=\u001b[0m\u001b[0mnode_dict\u001b[0m\u001b[1;33m,\u001b[0m\u001b[1;33m\u001b[0m\u001b[0m\n\u001b[1;32m      7\u001b[0m                             decay_step=len(words_index)//20, decay_rate=0.95, neg_samples=sample_size)\n\u001b[0;32m----> 8\u001b[0;31m             \u001b[0mmodel\u001b[0m\u001b[1;33m.\u001b[0m\u001b[0mtrain\u001b[0m\u001b[1;33m(\u001b[0m\u001b[0mwords_index\u001b[0m\u001b[1;33m)\u001b[0m\u001b[1;33m\u001b[0m\u001b[0m\n\u001b[0m\u001b[1;32m      9\u001b[0m \u001b[1;33m\u001b[0m\u001b[0m\n\u001b[1;32m     10\u001b[0m     \u001b[1;31m# model save\u001b[0m\u001b[1;33m\u001b[0m\u001b[1;33m\u001b[0m\u001b[0m\n",
      "\u001b[0;32mC:\\Users\\ysjeong\\Desktop\\Information Retrieval\\assignment\\과제_04\\model.py\u001b[0m in \u001b[0;36mtrain\u001b[0;34m(self, data)\u001b[0m\n\u001b[1;32m     63\u001b[0m \u001b[1;33m\u001b[0m\u001b[0m\n\u001b[1;32m     64\u001b[0m                 \u001b[1;32mif\u001b[0m \u001b[0mself\u001b[0m\u001b[1;33m.\u001b[0m\u001b[0marchitecture\u001b[0m \u001b[1;33m==\u001b[0m \u001b[1;34m'cbow'\u001b[0m\u001b[1;33m:\u001b[0m\u001b[1;33m\u001b[0m\u001b[0m\n\u001b[0;32m---> 65\u001b[0;31m                     \u001b[0mloss\u001b[0m\u001b[1;33m,\u001b[0m \u001b[0mgrads\u001b[0m\u001b[1;33m,\u001b[0m \u001b[0mgrads_idx\u001b[0m \u001b[1;33m=\u001b[0m \u001b[0mself\u001b[0m\u001b[1;33m.\u001b[0m\u001b[0mloss\u001b[0m\u001b[1;33m(\u001b[0m\u001b[0mcurrentWord\u001b[0m\u001b[1;33m,\u001b[0m \u001b[0mcontextWords\u001b[0m\u001b[1;33m)\u001b[0m\u001b[1;33m\u001b[0m\u001b[0m\n\u001b[0m\u001b[1;32m     66\u001b[0m                     \u001b[0mself\u001b[0m\u001b[1;33m.\u001b[0m\u001b[0mgradient_update\u001b[0m\u001b[1;33m(\u001b[0m\u001b[0mgrads\u001b[0m\u001b[1;33m,\u001b[0m \u001b[0mgrads_idx\u001b[0m\u001b[1;33m)\u001b[0m\u001b[1;33m\u001b[0m\u001b[0m\n\u001b[1;32m     67\u001b[0m \u001b[1;33m\u001b[0m\u001b[0m\n",
      "\u001b[0;32mC:\\Users\\ysjeong\\Desktop\\Information Retrieval\\assignment\\과제_04\\model.py\u001b[0m in \u001b[0;36mloss\u001b[0;34m(self, currentWord, contextWords)\u001b[0m\n\u001b[1;32m     45\u001b[0m         \u001b[1;32mif\u001b[0m \u001b[0mself\u001b[0m\u001b[1;33m.\u001b[0m\u001b[0marchitecture\u001b[0m \u001b[1;33m==\u001b[0m \u001b[1;34m'cbow'\u001b[0m\u001b[1;33m:\u001b[0m\u001b[1;33m\u001b[0m\u001b[0m\n\u001b[1;32m     46\u001b[0m             loss, grads, grads_idx = CBOW(currentWord, contextWords, inputVectors, outputVectors,\n\u001b[0;32m---> 47\u001b[0;31m                                                 self.use_loss, self.sample_table, self.encoder)\n\u001b[0m\u001b[1;32m     48\u001b[0m         \u001b[1;32melif\u001b[0m \u001b[0mself\u001b[0m\u001b[1;33m.\u001b[0m\u001b[0marchitecture\u001b[0m \u001b[1;33m==\u001b[0m \u001b[1;34m'skipgram'\u001b[0m\u001b[1;33m:\u001b[0m\u001b[1;33m\u001b[0m\u001b[0m\n\u001b[1;32m     49\u001b[0m             loss, grads, grads_idx = Skipgram(currentWord, contextWords, inputVectors, outputVectors,\n",
      "\u001b[0;32mC:\\Users\\ysjeong\\Desktop\\Information Retrieval\\assignment\\과제_04\\layer.py\u001b[0m in \u001b[0;36mCBOW\u001b[0;34m(currentWord, contextWords, inputVectors, outputVectors, use_loss, sample_table, encoder)\u001b[0m\n\u001b[1;32m     96\u001b[0m         \u001b[0mneg_sample\u001b[0m \u001b[1;33m=\u001b[0m \u001b[0msample_table\u001b[0m\u001b[1;33m.\u001b[0m\u001b[0msampling\u001b[0m\u001b[1;33m(\u001b[0m\u001b[0mcurrentWord\u001b[0m\u001b[1;33m)\u001b[0m\u001b[1;33m\u001b[0m\u001b[0m\n\u001b[1;32m     97\u001b[0m         loss, grads, grads_idx = negative_sampling(currentWord, contextWords, inputVectors,\n\u001b[0;32m---> 98\u001b[0;31m                                                    hidden, outputVectors, samples=neg_sample)\n\u001b[0m\u001b[1;32m     99\u001b[0m \u001b[1;33m\u001b[0m\u001b[0m\n\u001b[1;32m    100\u001b[0m     \u001b[1;32mreturn\u001b[0m \u001b[0mloss\u001b[0m\u001b[1;33m,\u001b[0m \u001b[0mgrads\u001b[0m\u001b[1;33m,\u001b[0m \u001b[0mgrads_idx\u001b[0m\u001b[1;33m\u001b[0m\u001b[0m\n",
      "\u001b[0;32mC:\\Users\\ysjeong\\Desktop\\Information Retrieval\\assignment\\과제_04\\layer.py\u001b[0m in \u001b[0;36mnegative_sampling\u001b[0;34m(currentWord, contextWord, inputVectors, hiddenVectors, outputVectors, samples)\u001b[0m\n\u001b[1;32m    135\u001b[0m \u001b[1;33m\u001b[0m\u001b[0m\n\u001b[1;32m    136\u001b[0m     \u001b[0mtrue_out\u001b[0m \u001b[1;33m=\u001b[0m \u001b[0mnp\u001b[0m\u001b[1;33m.\u001b[0m\u001b[0mdot\u001b[0m\u001b[1;33m(\u001b[0m\u001b[0mhiddenVectors\u001b[0m\u001b[1;33m,\u001b[0m \u001b[0mtrue_word\u001b[0m\u001b[1;33m)\u001b[0m\u001b[1;33m\u001b[0m\u001b[0m\n\u001b[0;32m--> 137\u001b[0;31m     \u001b[0mnega_out\u001b[0m \u001b[1;33m=\u001b[0m \u001b[0mnp\u001b[0m\u001b[1;33m.\u001b[0m\u001b[0mdot\u001b[0m\u001b[1;33m(\u001b[0m\u001b[0mhiddenVectors\u001b[0m\u001b[1;33m,\u001b[0m \u001b[0mnega_word\u001b[0m\u001b[1;33m.\u001b[0m\u001b[0mT\u001b[0m\u001b[1;33m)\u001b[0m\u001b[1;33m\u001b[0m\u001b[0m\n\u001b[0m\u001b[1;32m    138\u001b[0m \u001b[1;33m\u001b[0m\u001b[0m\n\u001b[1;32m    139\u001b[0m     \u001b[0mtrue_loss\u001b[0m \u001b[1;33m=\u001b[0m \u001b[0mSigmoid\u001b[0m\u001b[1;33m(\u001b[0m\u001b[0mtrue_out\u001b[0m\u001b[1;33m)\u001b[0m\u001b[1;33m\u001b[0m\u001b[0m\n",
      "\u001b[0;31mKeyboardInterrupt\u001b[0m: "
     ]
    }
   ],
   "source": [
    "for e in range(epochs):\n",
    "    for architecture in architectures:\n",
    "        for loss_type in use_loss:\n",
    "            print ('Testing Model :%s, loss : %s' % (architecture, loss_type))\n",
    "            model = Word2Vec(vocab_size, embedding_size, context_size, architecture=architecture, verbose=len(words_index)//100,\n",
    "                            use_loss=loss_type, learning_rate = learning_rate[loss_type], sample_table=sample_table, encoder=node_dict,\n",
    "                            decay_step=len(words_index)//20, decay_rate=0.95, neg_samples=sample_size)\n",
    "            model.train(words_index)\n",
    "        \n",
    "    # model save\n",
    "    np.save('./results/%d_%s_%s_input.npy' % (e, architecture, loss_type), model.params['inputVectors']) # 0.15\n",
    "    np.save('./results/%d_%s_%s_output.npy'% (e, architecture, loss_type), model.params['outputVectors']) # 0.15 "
   ]
  },
  {
   "cell_type": "code",
   "execution_count": null,
   "metadata": {
    "collapsed": true
   },
   "outputs": [],
   "source": []
  },
  {
   "cell_type": "code",
   "execution_count": null,
   "metadata": {
    "collapsed": false
   },
   "outputs": [],
   "source": []
  },
  {
   "cell_type": "code",
   "execution_count": null,
   "metadata": {
    "collapsed": true
   },
   "outputs": [],
   "source": []
  }
 ],
 "metadata": {
  "anaconda-cloud": {},
  "kernelspec": {
   "display_name": "Python [default]",
   "language": "python",
   "name": "python3"
  },
  "language_info": {
   "codemirror_mode": {
    "name": "ipython",
    "version": 3
   },
   "file_extension": ".py",
   "mimetype": "text/x-python",
   "name": "python",
   "nbconvert_exporter": "python",
   "pygments_lexer": "ipython3",
   "version": "3.5.2"
  }
 },
 "nbformat": 4,
 "nbformat_minor": 2
}
